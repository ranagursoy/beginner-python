{
  "nbformat": 4,
  "nbformat_minor": 0,
  "metadata": {
    "colab": {
      "provenance": []
    },
    "kernelspec": {
      "name": "python3",
      "display_name": "Python 3"
    },
    "language_info": {
      "name": "python"
    }
  },
  "cells": [
    {
      "cell_type": "markdown",
      "source": [
        "# Nested List"
      ],
      "metadata": {
        "id": "OeBBqo5i-ZDK"
      }
    },
    {
      "cell_type": "markdown",
      "source": [
        "İç içe listeler"
      ],
      "metadata": {
        "id": "u7ONS3R9-fQN"
      }
    },
    {
      "cell_type": "code",
      "execution_count": null,
      "metadata": {
        "id": "J9mkDl56-UQp"
      },
      "outputs": [],
      "source": [
        "city_1 = [\"İstanbul\" , 34]\n",
        "city_2 = [\"İzmir\", 35]"
      ]
    },
    {
      "cell_type": "code",
      "source": [
        "city_1"
      ],
      "metadata": {
        "colab": {
          "base_uri": "https://localhost:8080/"
        },
        "id": "UMmPFtgxBPEc",
        "outputId": "6a0c4a0c-e263-4f8b-9e64-33a77669becf"
      },
      "execution_count": null,
      "outputs": [
        {
          "output_type": "execute_result",
          "data": {
            "text/plain": [
              "['İstanbul', 34]"
            ]
          },
          "metadata": {},
          "execution_count": 2
        }
      ]
    },
    {
      "cell_type": "code",
      "source": [
        "cities = city_1 + city_2"
      ],
      "metadata": {
        "id": "ESDQ5A2N-y9t"
      },
      "execution_count": null,
      "outputs": []
    },
    {
      "cell_type": "code",
      "source": [
        "cities"
      ],
      "metadata": {
        "colab": {
          "base_uri": "https://localhost:8080/"
        },
        "id": "28dvEoQDBUig",
        "outputId": "db2688f7-a646-4977-a1b6-b755d75ea37d"
      },
      "execution_count": null,
      "outputs": [
        {
          "output_type": "execute_result",
          "data": {
            "text/plain": [
              "['İstanbul', 34, 'İzmir', 35]"
            ]
          },
          "metadata": {},
          "execution_count": 4
        }
      ]
    },
    {
      "cell_type": "code",
      "source": [
        "cities[0]"
      ],
      "metadata": {
        "colab": {
          "base_uri": "https://localhost:8080/",
          "height": 36
        },
        "id": "DtfL4btlBwpU",
        "outputId": "d2fab997-0613-45b3-9d97-2db45ef16843"
      },
      "execution_count": null,
      "outputs": [
        {
          "output_type": "execute_result",
          "data": {
            "text/plain": [
              "'İstanbul'"
            ],
            "application/vnd.google.colaboratory.intrinsic+json": {
              "type": "string"
            }
          },
          "metadata": {},
          "execution_count": 7
        }
      ]
    },
    {
      "cell_type": "code",
      "source": [
        "city_list = [city_1, city_2]"
      ],
      "metadata": {
        "id": "h6BV-gRo-5SX"
      },
      "execution_count": null,
      "outputs": []
    },
    {
      "cell_type": "code",
      "source": [
        "city_list"
      ],
      "metadata": {
        "colab": {
          "base_uri": "https://localhost:8080/"
        },
        "id": "XkeMnXTxBe4n",
        "outputId": "2ec4ba9f-66bf-4515-8230-d35ac7ca3785"
      },
      "execution_count": null,
      "outputs": [
        {
          "output_type": "execute_result",
          "data": {
            "text/plain": [
              "[['İstanbul', 34], ['İzmir', 35]]"
            ]
          },
          "metadata": {},
          "execution_count": 6
        }
      ]
    },
    {
      "cell_type": "code",
      "source": [
        "city_list[0]"
      ],
      "metadata": {
        "colab": {
          "base_uri": "https://localhost:8080/"
        },
        "id": "_zkueLEoB1tt",
        "outputId": "7a448a51-c502-4ea7-cdff-bb97336a4b48"
      },
      "execution_count": null,
      "outputs": [
        {
          "output_type": "execute_result",
          "data": {
            "text/plain": [
              "['İstanbul', 34]"
            ]
          },
          "metadata": {},
          "execution_count": 8
        }
      ]
    },
    {
      "cell_type": "code",
      "source": [
        "print(\"firt city: \", city_list[0])\n",
        "print(\"second city: \", city_list[1])"
      ],
      "metadata": {
        "id": "R7uHB3Pu_YQV",
        "colab": {
          "base_uri": "https://localhost:8080/"
        },
        "outputId": "24fbcde6-4b7e-42bc-d6bb-778cc02ced90"
      },
      "execution_count": null,
      "outputs": [
        {
          "output_type": "stream",
          "name": "stdout",
          "text": [
            "firt city:  ['İstanbul', 34]\n",
            "second city:  ['İzmir', 35]\n"
          ]
        }
      ]
    },
    {
      "cell_type": "code",
      "source": [
        "print(\"first city name: \", city_list[0][0])\n",
        "print(\"second city number: \", city_list[1][1])"
      ],
      "metadata": {
        "id": "ZhcsMCk3-8qy",
        "colab": {
          "base_uri": "https://localhost:8080/"
        },
        "outputId": "10ac1e7e-d8b4-4b7a-c1b8-2c8fb056a270"
      },
      "execution_count": null,
      "outputs": [
        {
          "output_type": "stream",
          "name": "stdout",
          "text": [
            "first city name:  İstanbul\n",
            "second city number:  35\n"
          ]
        }
      ]
    },
    {
      "cell_type": "code",
      "source": [
        "len(cities)"
      ],
      "metadata": {
        "id": "b4wI4h45_UmR",
        "colab": {
          "base_uri": "https://localhost:8080/"
        },
        "outputId": "4f9afb1f-93c1-42e1-95c3-88937891f222"
      },
      "execution_count": null,
      "outputs": [
        {
          "output_type": "execute_result",
          "data": {
            "text/plain": [
              "4"
            ]
          },
          "metadata": {},
          "execution_count": 11
        }
      ]
    },
    {
      "cell_type": "code",
      "source": [
        "len(city_list)"
      ],
      "metadata": {
        "id": "-ZsoAg7o_OSx",
        "colab": {
          "base_uri": "https://localhost:8080/"
        },
        "outputId": "d58691b8-6281-4c02-ed5c-16cc3adf9d31"
      },
      "execution_count": null,
      "outputs": [
        {
          "output_type": "execute_result",
          "data": {
            "text/plain": [
              "2"
            ]
          },
          "metadata": {},
          "execution_count": 12
        }
      ]
    },
    {
      "cell_type": "markdown",
      "source": [
        "# Tuple"
      ],
      "metadata": {
        "id": "B3jbpY4y_n1c"
      }
    },
    {
      "cell_type": "markdown",
      "source": [
        "değiştirelemez veri yapısıdır\n"
      ],
      "metadata": {
        "id": "FDrPByn1_szH"
      }
    },
    {
      "cell_type": "markdown",
      "source": [
        "bu linkteki örnekleri inceleyebilirsin: https://www.geeksforgeeks.org/python-tuples/"
      ],
      "metadata": {
        "id": "DsBYP1hbEiuK"
      }
    },
    {
      "cell_type": "code",
      "source": [
        "first_tuple = (1,2,3)"
      ],
      "metadata": {
        "id": "VmVjRamD_z6U"
      },
      "execution_count": null,
      "outputs": []
    },
    {
      "cell_type": "code",
      "source": [
        "print(first_tuple[0])"
      ],
      "metadata": {
        "id": "w_FTZheF_3US",
        "colab": {
          "base_uri": "https://localhost:8080/"
        },
        "outputId": "72be171f-ba37-452a-9421-e7da3ee5dc22"
      },
      "execution_count": null,
      "outputs": [
        {
          "output_type": "stream",
          "name": "stdout",
          "text": [
            "1\n"
          ]
        }
      ]
    },
    {
      "cell_type": "code",
      "source": [
        "#first_tuple[0] = 5"
      ],
      "metadata": {
        "id": "DMIh3dpv_5sn"
      },
      "execution_count": null,
      "outputs": []
    },
    {
      "cell_type": "markdown",
      "source": [
        "# Dictionary"
      ],
      "metadata": {
        "id": "AjRKw4OoAENY"
      }
    },
    {
      "cell_type": "markdown",
      "source": [
        "dictionary = {key : value}"
      ],
      "metadata": {
        "id": "jUkNGGVeAdfv"
      }
    },
    {
      "cell_type": "code",
      "source": [
        "city_name = [\"Ankara\", \"Aydin\", \"İstanbul\", \"İzmir\"]\n",
        "city_number = [6, 9, 34, 35]"
      ],
      "metadata": {
        "id": "Fuaao-0yAJqv"
      },
      "execution_count": null,
      "outputs": []
    },
    {
      "cell_type": "code",
      "source": [
        "number = {'Ankara': 6, 'Aydin': 9, 'İstanbul': 34, 'İzmir': 35}\n",
        "number_abb = dict(zip(city_name, city_number))\n",
        "number_abb"
      ],
      "metadata": {
        "id": "fBX3HwAWAitE",
        "colab": {
          "base_uri": "https://localhost:8080/"
        },
        "outputId": "c369293e-ea40-4f96-f9c0-fc7cfa9ab8a5"
      },
      "execution_count": null,
      "outputs": [
        {
          "output_type": "execute_result",
          "data": {
            "text/plain": [
              "{'Ankara': 6, 'Aydin': 9, 'İstanbul': 34, 'İzmir': 35}"
            ]
          },
          "metadata": {},
          "execution_count": 19
        }
      ]
    },
    {
      "cell_type": "code",
      "source": [
        "number[\"Ankara\"]"
      ],
      "metadata": {
        "id": "23_I5SnXA2KS",
        "colab": {
          "base_uri": "https://localhost:8080/"
        },
        "outputId": "ab47cfee-cc77-4e1e-ffe2-b1cfa661598f"
      },
      "execution_count": null,
      "outputs": [
        {
          "output_type": "execute_result",
          "data": {
            "text/plain": [
              "99"
            ]
          },
          "metadata": {},
          "execution_count": 22
        }
      ]
    },
    {
      "cell_type": "code",
      "source": [
        "number[\"Ankara\"] = 99"
      ],
      "metadata": {
        "id": "tmk_faXmA_hT"
      },
      "execution_count": null,
      "outputs": []
    },
    {
      "cell_type": "code",
      "source": [
        "number[\"Antalya\"] = 7"
      ],
      "metadata": {
        "id": "sPfYJ44aBIFz"
      },
      "execution_count": null,
      "outputs": []
    },
    {
      "cell_type": "code",
      "source": [
        "number"
      ],
      "metadata": {
        "colab": {
          "base_uri": "https://localhost:8080/"
        },
        "id": "P2DVjlmMDZWN",
        "outputId": "6a6471e5-460a-4760-e9bc-7ccf8d931374"
      },
      "execution_count": null,
      "outputs": [
        {
          "output_type": "execute_result",
          "data": {
            "text/plain": [
              "{'Ankara': 99, 'Aydin': 9, 'İstanbul': 34, 'İzmir': 35, 'Antalya': 7}"
            ]
          },
          "metadata": {},
          "execution_count": 24
        }
      ]
    },
    {
      "cell_type": "code",
      "source": [
        "# dictionary e kullanılan kullanışlı fonksiyonlar"
      ],
      "metadata": {
        "id": "3tbUBLgXBVKo"
      },
      "execution_count": null,
      "outputs": []
    },
    {
      "cell_type": "code",
      "source": [
        "my_dict = {\"name\": \"Pelin\", \"age\": 30, \"country\": \"Turkey\"}"
      ],
      "metadata": {
        "id": "6Ypctjw8BbZM"
      },
      "execution_count": null,
      "outputs": []
    },
    {
      "cell_type": "code",
      "source": [
        "keys = my_dict.keys()"
      ],
      "metadata": {
        "id": "12qUHrDrBbO1"
      },
      "execution_count": null,
      "outputs": []
    },
    {
      "cell_type": "code",
      "source": [
        "keys"
      ],
      "metadata": {
        "colab": {
          "base_uri": "https://localhost:8080/"
        },
        "id": "6T0acC55DkZH",
        "outputId": "8db50b37-1c48-44e4-988a-09ce049a0ba6"
      },
      "execution_count": null,
      "outputs": [
        {
          "output_type": "execute_result",
          "data": {
            "text/plain": [
              "dict_keys(['name', 'age', 'country'])"
            ]
          },
          "metadata": {},
          "execution_count": 27
        }
      ]
    },
    {
      "cell_type": "code",
      "source": [
        "values = my_dict.values()"
      ],
      "metadata": {
        "id": "yRardXQiBu6N"
      },
      "execution_count": null,
      "outputs": []
    },
    {
      "cell_type": "code",
      "source": [
        "values"
      ],
      "metadata": {
        "colab": {
          "base_uri": "https://localhost:8080/"
        },
        "id": "1oNMxDhzDohu",
        "outputId": "40a234c5-f11b-4136-bd36-cdb961d15638"
      },
      "execution_count": null,
      "outputs": [
        {
          "output_type": "execute_result",
          "data": {
            "text/plain": [
              "dict_values(['Pelin', 30, 'Turkey'])"
            ]
          },
          "metadata": {},
          "execution_count": 29
        }
      ]
    },
    {
      "cell_type": "code",
      "source": [
        "items = my_dict.items()"
      ],
      "metadata": {
        "id": "e8O9yK-xBxqc"
      },
      "execution_count": null,
      "outputs": []
    },
    {
      "cell_type": "code",
      "source": [
        "items"
      ],
      "metadata": {
        "colab": {
          "base_uri": "https://localhost:8080/"
        },
        "id": "bXWIzU9cDrH4",
        "outputId": "1109e3ac-1b1c-4d04-febe-94f9f81e1d1d"
      },
      "execution_count": null,
      "outputs": [
        {
          "output_type": "execute_result",
          "data": {
            "text/plain": [
              "dict_items([('name', 'Pelin'), ('age', 30), ('country', 'Turkey')])"
            ]
          },
          "metadata": {},
          "execution_count": 31
        }
      ]
    },
    {
      "cell_type": "code",
      "source": [
        "keys_list = list(my_dict.keys())\n",
        "values_list = list(my_dict.values())"
      ],
      "metadata": {
        "id": "b9TsJU1oBzx2"
      },
      "execution_count": null,
      "outputs": []
    },
    {
      "cell_type": "code",
      "source": [
        "keys_list"
      ],
      "metadata": {
        "colab": {
          "base_uri": "https://localhost:8080/"
        },
        "id": "gvzGMAV4DwJk",
        "outputId": "fec507bb-db87-4e02-e7f5-6c38d321f1a9"
      },
      "execution_count": null,
      "outputs": [
        {
          "output_type": "execute_result",
          "data": {
            "text/plain": [
              "['name', 'age', 'country']"
            ]
          },
          "metadata": {},
          "execution_count": 33
        }
      ]
    },
    {
      "cell_type": "markdown",
      "source": [
        "# Assigment-I"
      ],
      "metadata": {
        "id": "ihWz6zU-C9w3"
      }
    },
    {
      "cell_type": "markdown",
      "source": [
        "Bir öğrenci bilgilerini içeren dictionary oluşturun. Bu dictionary'de her öğrenci ismi için bir diğer dictionary'de yaş ve notlar (list olarak) bulunsun.\n",
        "Yapılacaklar:\n",
        "\n",
        "*   İstanilen formatta liste oluşturmak\n",
        "*   Liste oluşturduktan sonra yeni bir öğrenci eklemek\n",
        "*   Bir öğrencinin yaşını güncellemek\n",
        "*   Bir öğrencinin liste içerisindeki bir notunu güncellemek\n",
        "*   Bir öğrencinin not ortalamasını hesaplamak"
      ],
      "metadata": {
        "id": "n20ZoE6yDHFE"
      }
    },
    {
      "cell_type": "code",
      "source": [
        "students = {\n",
        "    \"Ali\": {\"yaş\": 20, \"notlar\": [85, 90, 78]},\n",
        "    \"Veli\": {\"yaş\": 22, \"notlar\": [92, 88, 84]},\n",
        "    \"Ayşe\": {\"yaş\": 21, \"notlar\": [89, 76, 91]}\n",
        "}\n",
        "\n",
        "students[\"Mehmet\"][\"yaş\"] = 21\n",
        "students[\"Mehmet\"][\"notlar\"] = [0, 0, 0]\n",
        "students[\"Mehmet\"][\"yaş\"][0] = 0\n",
        "\n"
      ],
      "metadata": {
        "id": "JWA4MAgIIxZw"
      },
      "execution_count": null,
      "outputs": []
    },
    {
      "cell_type": "code",
      "source": [
        "students[\"Mehmet\"] = {\"yaş\": True , \"notlar\": \"bos\"}"
      ],
      "metadata": {
        "id": "udyGRA2cJAnU"
      },
      "execution_count": null,
      "outputs": []
    },
    {
      "cell_type": "code",
      "source": [
        "students"
      ],
      "metadata": {
        "colab": {
          "base_uri": "https://localhost:8080/"
        },
        "id": "0sj9LbBtLTtU",
        "outputId": "924c702a-ffff-4249-b0c1-01c065812dbb"
      },
      "execution_count": null,
      "outputs": [
        {
          "output_type": "execute_result",
          "data": {
            "text/plain": [
              "{'Ali': {'yaş': 20, 'notlar': [85, 90, 78]},\n",
              " 'Veli': {'yaş': 22, 'notlar': [92, 88, 84]},\n",
              " 'Ayşe': {'yaş': 21, 'notlar': [89, 76, 91]},\n",
              " 'Mehmet': {'yaş': True, 'notlar': 'bos'}}"
            ]
          },
          "metadata": {},
          "execution_count": 47
        }
      ]
    },
    {
      "cell_type": "code",
      "source": [
        "students[\"Mehmet\"] = {\"yaş\": 23, \"notlar\": [75, 80, 85]}"
      ],
      "metadata": {
        "id": "_i_ClOZjKpdR"
      },
      "execution_count": null,
      "outputs": []
    },
    {
      "cell_type": "code",
      "source": [
        "students"
      ],
      "metadata": {
        "colab": {
          "base_uri": "https://localhost:8080/"
        },
        "id": "fakay0JzKvsR",
        "outputId": "2b5b3e5d-7654-46b0-dd81-f6a7f1a6aaa8"
      },
      "execution_count": null,
      "outputs": [
        {
          "output_type": "execute_result",
          "data": {
            "text/plain": [
              "{'Ali': {'yaş': 20, 'notlar': [85, 90, 78]},\n",
              " 'Veli': {'yaş': 22, 'notlar': [92, 88, 84]},\n",
              " 'Ayşe': {'yaş': 21, 'notlar': [89, 76, 91]},\n",
              " 'Mehmet': {'yaş': 23, 'notlar': [75, 80, 85]}}"
            ]
          },
          "metadata": {},
          "execution_count": 49
        }
      ]
    },
    {
      "cell_type": "code",
      "source": [
        "students[\"Ali\"][\"yaş\"] = 21"
      ],
      "metadata": {
        "id": "J_ZiiFFJLlnu"
      },
      "execution_count": null,
      "outputs": []
    },
    {
      "cell_type": "code",
      "source": [
        "students"
      ],
      "metadata": {
        "colab": {
          "base_uri": "https://localhost:8080/"
        },
        "id": "ji8CihwQLpkJ",
        "outputId": "dc358749-b94e-47e5-bc73-e8a09eb3858e"
      },
      "execution_count": null,
      "outputs": [
        {
          "output_type": "execute_result",
          "data": {
            "text/plain": [
              "{'Ali': {'yaş': 21, 'notlar': [85, 90, 78]},\n",
              " 'Veli': {'yaş': 22, 'notlar': [92, 88, 84]},\n",
              " 'Ayşe': {'yaş': 21, 'notlar': [89, 76, 91]},\n",
              " 'Mehmet': {'yaş': 23, 'notlar': [75, 80, 85]}}"
            ]
          },
          "metadata": {},
          "execution_count": 51
        }
      ]
    },
    {
      "cell_type": "code",
      "source": [
        "students[\"Ali\"][\"yaş\"]"
      ],
      "metadata": {
        "id": "WWfsWUkiLu5W",
        "colab": {
          "base_uri": "https://localhost:8080/"
        },
        "outputId": "1ec6fc55-6f55-4c3d-dacd-1a69ac52f967"
      },
      "execution_count": null,
      "outputs": [
        {
          "output_type": "execute_result",
          "data": {
            "text/plain": [
              "21"
            ]
          },
          "metadata": {},
          "execution_count": 52
        }
      ]
    },
    {
      "cell_type": "code",
      "source": [
        "students[\"Ali\"][\"notlar\"]"
      ],
      "metadata": {
        "colab": {
          "base_uri": "https://localhost:8080/"
        },
        "id": "n89EF6S6NYXA",
        "outputId": "8910364b-e65c-4bf2-c468-0dc39ff6cf89"
      },
      "execution_count": null,
      "outputs": [
        {
          "output_type": "execute_result",
          "data": {
            "text/plain": [
              "[85, 90, 78]"
            ]
          },
          "metadata": {},
          "execution_count": 54
        }
      ]
    },
    {
      "cell_type": "code",
      "source": [
        "students[\"Ali\"][\"notlar\"][0]"
      ],
      "metadata": {
        "colab": {
          "base_uri": "https://localhost:8080/"
        },
        "id": "nVzzp0xhNikk",
        "outputId": "bd81dd58-a2f2-487d-bbff-9eaada173cdb"
      },
      "execution_count": null,
      "outputs": [
        {
          "output_type": "execute_result",
          "data": {
            "text/plain": [
              "85"
            ]
          },
          "metadata": {},
          "execution_count": 55
        }
      ]
    },
    {
      "cell_type": "code",
      "source": [
        "average_notes = sum(students[\"Ayşe\"][\"notlar\"]) / len(students[\"Ayşe\"][\"notlar\"])"
      ],
      "metadata": {
        "id": "kdRn08CaNmrg"
      },
      "execution_count": null,
      "outputs": []
    },
    {
      "cell_type": "code",
      "source": [
        "average_notes"
      ],
      "metadata": {
        "colab": {
          "base_uri": "https://localhost:8080/"
        },
        "id": "kYNt4OKdNvcH",
        "outputId": "41c00c2d-e002-4d31-9bd4-be1f2841ddcc"
      },
      "execution_count": null,
      "outputs": [
        {
          "output_type": "execute_result",
          "data": {
            "text/plain": [
              "85.33333333333333"
            ]
          },
          "metadata": {},
          "execution_count": 57
        }
      ]
    },
    {
      "cell_type": "code",
      "source": [
        "ogrenciIsimleri = [\"Ahmet\", \"Mehmet\", \"Ayşe\"]\n",
        "ogrenciYaslari = [10, 20, 30]\n",
        "ahmetNotlar = [70, 100, 80]\n",
        "mehmetNotlar = [90, 90, 90]\n",
        "ayseNotlar = [80, 90, 100]\n",
        "ogrenciNotlari = [ahmetNotlar, mehmetNotlar, ayseNotlar]"
      ],
      "metadata": {
        "id": "lhBYqOBfEYf-"
      },
      "execution_count": null,
      "outputs": []
    },
    {
      "cell_type": "code",
      "source": [
        "ogrenciIsimleri.append(\"Veli\")\n",
        "ogrenciYaslari.append(40)\n",
        "veliNotlar = [100, 60, 80]\n",
        "ogrenciNotlari.append(veliNotlar)"
      ],
      "metadata": {
        "id": "9mktLZAaJkZf"
      },
      "execution_count": null,
      "outputs": []
    },
    {
      "cell_type": "code",
      "source": [
        "# for döngüsü ile hızlıca dict oluşturma\n",
        "students_for = {}\n",
        "for i in range(len(ogrenciIsimleri)):\n",
        "    students_for[ogrenciIsimleri[i]] = {\n",
        "        'yas': ogrenciYaslari[i],\n",
        "        'notlar': ogrenciNotlari[i]\n",
        "    }"
      ],
      "metadata": {
        "id": "3Ir3WkPZJMxX"
      },
      "execution_count": null,
      "outputs": []
    },
    {
      "cell_type": "code",
      "source": [
        "students_for"
      ],
      "metadata": {
        "colab": {
          "base_uri": "https://localhost:8080/"
        },
        "id": "C20JEKzlJonT",
        "outputId": "d5b11c56-a3e6-4a5a-fdad-a181c796fc08"
      },
      "execution_count": null,
      "outputs": [
        {
          "output_type": "execute_result",
          "data": {
            "text/plain": [
              "{'Ahmet': {'yas': 10, 'notlar': [70, 100, 80]},\n",
              " 'Mehmet': {'yas': 20, 'notlar': [90, 90, 90]},\n",
              " 'Ayşe': {'yas': 30, 'notlar': [80, 90, 100]},\n",
              " 'Veli': {'yas': 40, 'notlar': [100, 60, 80]}}"
            ]
          },
          "metadata": {},
          "execution_count": 40
        }
      ]
    },
    {
      "cell_type": "markdown",
      "source": [
        "# Assigment-II"
      ],
      "metadata": {
        "id": "dsh5wlUPDy98"
      }
    },
    {
      "cell_type": "markdown",
      "source": [
        "Yapılacaklar:\n",
        "\n",
        "*   Bir tuple oluşturmak\n",
        "*   Tuple'daki en büyük sayıyı bulmak\n",
        "*   Tuple'daki tüm elemanların toplamını hesaplamak\n",
        "*   Tuple'daki elemanların her birini ikiyle çarpan ve yeni bir tuple oluşturmak\n",
        "\n",
        "Tuple anlatımda olan linkteki fonksiyon kullanımlarını inceledikten sonra soruya bakabilirsin"
      ],
      "metadata": {
        "id": "7j2FoYCDD8em"
      }
    },
    {
      "cell_type": "code",
      "source": [
        "numbers = (4, 7, 2, 9, 5)"
      ],
      "metadata": {
        "id": "Gmwi71dWD3UA"
      },
      "execution_count": null,
      "outputs": []
    },
    {
      "cell_type": "code",
      "source": [
        "max_num = max(numbers)\n",
        "max_num"
      ],
      "metadata": {
        "colab": {
          "base_uri": "https://localhost:8080/"
        },
        "id": "nWy0PDwxVOHS",
        "outputId": "31cdb7d2-13e8-4f83-bc4c-95a2a3e43619"
      },
      "execution_count": null,
      "outputs": [
        {
          "output_type": "execute_result",
          "data": {
            "text/plain": [
              "9"
            ]
          },
          "metadata": {},
          "execution_count": 60
        }
      ]
    },
    {
      "cell_type": "code",
      "source": [
        "total = sum(numbers)\n",
        "total"
      ],
      "metadata": {
        "colab": {
          "base_uri": "https://localhost:8080/"
        },
        "id": "GYiozTY0VPiG",
        "outputId": "ec0255c8-699b-4040-ebf9-2ff69f8880de"
      },
      "execution_count": null,
      "outputs": [
        {
          "output_type": "execute_result",
          "data": {
            "text/plain": [
              "27"
            ]
          },
          "metadata": {},
          "execution_count": 61
        }
      ]
    },
    {
      "cell_type": "code",
      "source": [
        "doubled = tuple(x * 2 for x in numbers)\n",
        "doubled"
      ],
      "metadata": {
        "colab": {
          "base_uri": "https://localhost:8080/"
        },
        "id": "YTRR9tRYVVCM",
        "outputId": "4b1d22eb-a8a5-4558-fb05-47285d4b174b"
      },
      "execution_count": null,
      "outputs": [
        {
          "output_type": "execute_result",
          "data": {
            "text/plain": [
              "(8, 14, 4, 18, 10)"
            ]
          },
          "metadata": {},
          "execution_count": 62
        }
      ]
    }
  ]
}