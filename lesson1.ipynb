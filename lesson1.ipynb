{
  "nbformat": 4,
  "nbformat_minor": 0,
  "metadata": {
    "colab": {
      "provenance": [],
      "collapsed_sections": [
        "V8Cz2o6l1mve",
        "bzeUDLOd2Qc1",
        "xUCgiFy23Ckw",
        "ZIpnYOin35G1",
        "zaeW92fL5LzR",
        "kk2K69hx6VdD",
        "V7gF1IFw66KU",
        "_zpv7N767sFK",
        "PxG9d5A18j8Q",
        "Rkcf-7nL8IAX",
        "ScCtBQ429ldm"
      ]
    },
    "kernelspec": {
      "name": "python3",
      "display_name": "Python 3"
    },
    "language_info": {
      "name": "python"
    }
  },
  "cells": [
    {
      "cell_type": "markdown",
      "source": [
        "# Print Komutu"
      ],
      "metadata": {
        "id": "V8Cz2o6l1mve"
      }
    },
    {
      "cell_type": "code",
      "execution_count": null,
      "metadata": {
        "colab": {
          "base_uri": "https://localhost:8080/"
        },
        "id": "OWdFN9Tp1iMR",
        "outputId": "60dc4b49-b10d-4952-e7aa-152dc2aaa7b8"
      },
      "outputs": [
        {
          "output_type": "stream",
          "name": "stdout",
          "text": [
            "Hello Word\n"
          ]
        }
      ],
      "source": [
        "print(\"Hello Word\")"
      ]
    },
    {
      "cell_type": "markdown",
      "source": [
        "Print sep komutu"
      ],
      "metadata": {
        "id": "rffv1Lhs1052"
      }
    },
    {
      "cell_type": "code",
      "source": [
        "print('1','2','3')"
      ],
      "metadata": {
        "colab": {
          "base_uri": "https://localhost:8080/"
        },
        "id": "AEXBn_ph17aP",
        "outputId": "f4e31217-5d2e-4823-fe5b-84c4dce719be"
      },
      "execution_count": null,
      "outputs": [
        {
          "output_type": "stream",
          "name": "stdout",
          "text": [
            "1 2 3\n"
          ]
        }
      ]
    },
    {
      "cell_type": "code",
      "source": [
        "print(\"python\", 3)"
      ],
      "metadata": {
        "colab": {
          "base_uri": "https://localhost:8080/"
        },
        "id": "XVPDLwQZ_hJC",
        "outputId": "ac4b19c1-3825-44ae-a9df-5116b918905d"
      },
      "execution_count": null,
      "outputs": [
        {
          "output_type": "stream",
          "name": "stdout",
          "text": [
            "python 3\n"
          ]
        }
      ]
    },
    {
      "cell_type": "code",
      "source": [
        "print(\"python\" + \"3\")"
      ],
      "metadata": {
        "colab": {
          "base_uri": "https://localhost:8080/"
        },
        "id": "o8GPs0QJ_wf9",
        "outputId": "2d49e099-f21a-4bca-c578-0f5a3a57676c"
      },
      "execution_count": null,
      "outputs": [
        {
          "output_type": "stream",
          "name": "stdout",
          "text": [
            "python3\n"
          ]
        }
      ]
    },
    {
      "cell_type": "code",
      "source": [
        "print('1','2','3', sep='&')"
      ],
      "metadata": {
        "colab": {
          "base_uri": "https://localhost:8080/"
        },
        "id": "RxORxBB-1wph",
        "outputId": "65efd41a-5e80-4629-c7c7-ff3d111860ef"
      },
      "execution_count": null,
      "outputs": [
        {
          "output_type": "stream",
          "name": "stdout",
          "text": [
            "1&2&3\n"
          ]
        }
      ]
    },
    {
      "cell_type": "markdown",
      "source": [
        "Print end komutu\n"
      ],
      "metadata": {
        "id": "8WRjyH072BI1"
      }
    },
    {
      "cell_type": "code",
      "source": [
        "print(\"yildiztechnicuniversity\", end= '.com')"
      ],
      "metadata": {
        "colab": {
          "base_uri": "https://localhost:8080/"
        },
        "id": "NU5XmkTk19Wk",
        "outputId": "ecbcc88d-3017-47f3-b50a-0441267de50d"
      },
      "execution_count": null,
      "outputs": [
        {
          "output_type": "stream",
          "name": "stdout",
          "text": [
            "yildiztechnicuniversity.com"
          ]
        }
      ]
    },
    {
      "cell_type": "markdown",
      "source": [
        "# Input komutu\n"
      ],
      "metadata": {
        "id": "bzeUDLOd2Qc1"
      }
    },
    {
      "cell_type": "code",
      "source": [
        "print(\"Whats your name?\")\n",
        "name = input()"
      ],
      "metadata": {
        "colab": {
          "base_uri": "https://localhost:8080/"
        },
        "id": "FV4BaHht2KIT",
        "outputId": "970834c0-4a50-42a4-ae54-6853c8678674"
      },
      "execution_count": null,
      "outputs": [
        {
          "name": "stdout",
          "output_type": "stream",
          "text": [
            "Whats your name?\n",
            "rana\n"
          ]
        }
      ]
    },
    {
      "cell_type": "code",
      "source": [
        "print(name)"
      ],
      "metadata": {
        "colab": {
          "base_uri": "https://localhost:8080/"
        },
        "id": "lns-QMbe2ZHd",
        "outputId": "a2819fd5-f3af-4b0d-9a92-d6a7d31304bb"
      },
      "execution_count": null,
      "outputs": [
        {
          "output_type": "stream",
          "name": "stdout",
          "text": [
            "rana\n"
          ]
        }
      ]
    },
    {
      "cell_type": "code",
      "source": [
        "print(\"How old are you?\")\n",
        "age = input()\n",
        "print(\"You are\" + age + \" years old\")"
      ],
      "metadata": {
        "colab": {
          "base_uri": "https://localhost:8080/"
        },
        "id": "W5ZVlPcE2j2b",
        "outputId": "cc9e205e-47c7-4294-d3b1-4435b8d7c091"
      },
      "execution_count": null,
      "outputs": [
        {
          "output_type": "stream",
          "name": "stdout",
          "text": [
            "How old are you?\n",
            "11\n",
            "You are11 years old\n"
          ]
        }
      ]
    },
    {
      "cell_type": "markdown",
      "source": [
        "# Basit Veri Tipleri\n",
        "\n",
        "*   integer = int (1, 20, 312)\n",
        "*   float (1.24, 90.4)\n",
        "*   string = str (\"rana\", \"kedi\")\n",
        "*   boolean = bool (True, False)\n"
      ],
      "metadata": {
        "id": "xUCgiFy23Ckw"
      }
    },
    {
      "cell_type": "markdown",
      "source": [
        "*type*() fonksiyonu ile veri tipi incelemesi yapılabilir"
      ],
      "metadata": {
        "id": "52IicA5C4qDk"
      }
    },
    {
      "cell_type": "code",
      "source": [
        "type(20)"
      ],
      "metadata": {
        "colab": {
          "base_uri": "https://localhost:8080/"
        },
        "id": "H6qpT7iN34fw",
        "outputId": "8e9fdb73-5ae9-457e-f68c-ed31d3dc3811"
      },
      "execution_count": null,
      "outputs": [
        {
          "output_type": "execute_result",
          "data": {
            "text/plain": [
              "int"
            ]
          },
          "metadata": {},
          "execution_count": 13
        }
      ]
    },
    {
      "cell_type": "code",
      "source": [
        "type(1.24)"
      ],
      "metadata": {
        "colab": {
          "base_uri": "https://localhost:8080/"
        },
        "id": "zzaDA5m74xRJ",
        "outputId": "ee787e1e-eb91-4ad4-ffe5-d181ca05309c"
      },
      "execution_count": null,
      "outputs": [
        {
          "output_type": "execute_result",
          "data": {
            "text/plain": [
              "float"
            ]
          },
          "metadata": {},
          "execution_count": 14
        }
      ]
    },
    {
      "cell_type": "code",
      "source": [
        "type(\"kedi\")"
      ],
      "metadata": {
        "colab": {
          "base_uri": "https://localhost:8080/"
        },
        "id": "0-lo7k8x4znB",
        "outputId": "8c492a89-d33d-4fa2-d420-77ff64a994d2"
      },
      "execution_count": null,
      "outputs": [
        {
          "output_type": "execute_result",
          "data": {
            "text/plain": [
              "str"
            ]
          },
          "metadata": {},
          "execution_count": 15
        }
      ]
    },
    {
      "cell_type": "code",
      "source": [
        "type(True)"
      ],
      "metadata": {
        "colab": {
          "base_uri": "https://localhost:8080/"
        },
        "id": "0QEYSjKq41bE",
        "outputId": "37fc0a31-e3fc-4262-defa-603a51698f3a"
      },
      "execution_count": null,
      "outputs": [
        {
          "output_type": "execute_result",
          "data": {
            "text/plain": [
              "bool"
            ]
          },
          "metadata": {},
          "execution_count": 16
        }
      ]
    },
    {
      "cell_type": "markdown",
      "source": [
        "# Değişken Tanımlama\n",
        "Değişken, bir değeri saklamak ve bu değere erişmek için kullanılan bir isimlendirilmiş bellek alanıdır. Değişkenler, programda verileri tutmak ve işlemek için kullanılır. Bir değişkenin ismiyle ona atanmış olan değer kullanılarak, program içinde verilerin depolanması, değiştirilmesi ve işlenmesi mümkün hale gelir. Değişkenler, farklı veri türlerini (sayılar, metinler, listeler, vb.) temsil edebilir ve programın çalışması sırasında değerleri değiştirilebilir. Python'da değişkenler, değer ataması yapılırken otomatik olarak oluşturulurlar ve veri türü\n"
      ],
      "metadata": {
        "id": "ZIpnYOin35G1"
      }
    },
    {
      "cell_type": "code",
      "source": [
        "name =\"Tarık\""
      ],
      "metadata": {
        "id": "auLAu7AJ39us"
      },
      "execution_count": null,
      "outputs": []
    },
    {
      "cell_type": "code",
      "source": [
        "type(name)"
      ],
      "metadata": {
        "colab": {
          "base_uri": "https://localhost:8080/"
        },
        "id": "KPvXm6JU4fyN",
        "outputId": "36436b09-cb4c-4048-8e59-9bea11efd68b"
      },
      "execution_count": null,
      "outputs": [
        {
          "output_type": "execute_result",
          "data": {
            "text/plain": [
              "str"
            ]
          },
          "metadata": {},
          "execution_count": 23
        }
      ]
    },
    {
      "cell_type": "code",
      "source": [
        "class_number = 12"
      ],
      "metadata": {
        "id": "fJ47isBe47QI"
      },
      "execution_count": null,
      "outputs": []
    },
    {
      "cell_type": "code",
      "source": [
        "type(class_number)"
      ],
      "metadata": {
        "colab": {
          "base_uri": "https://localhost:8080/"
        },
        "id": "XaXf_WEo4_Pb",
        "outputId": "ef53d7b7-fef2-4955-a8bd-451fde9f1932"
      },
      "execution_count": null,
      "outputs": [
        {
          "output_type": "execute_result",
          "data": {
            "text/plain": [
              "int"
            ]
          },
          "metadata": {},
          "execution_count": 27
        }
      ]
    },
    {
      "cell_type": "markdown",
      "source": [
        "# Değişken İsimlendirme Kuralları\n",
        "\n",
        "Değişken ismi,\n",
        "\n",
        "*   sayıyla başlayamaz.\n",
        "*   matematiksel ifadelerdeki gibi işaretçiler kullanılmamalıdır.\n",
        "*   isimlendirme arasında boşluk bırakılmamalıdır.\n",
        "*   türkçe karakter kullanımından kaçınılmalıdır.\n",
        "\n",
        "\n",
        "\n"
      ],
      "metadata": {
        "id": "zaeW92fL5LzR"
      }
    },
    {
      "cell_type": "code",
      "source": [
        "# değişken ismi sayıyla başlayamaz\n",
        "1_name = \"Tarık\""
      ],
      "metadata": {
        "id": "p07NTfFs5HTW",
        "colab": {
          "base_uri": "https://localhost:8080/",
          "height": 106
        },
        "outputId": "7ec63af5-2bf5-4e8c-e9d7-677587273b91"
      },
      "execution_count": null,
      "outputs": [
        {
          "output_type": "error",
          "ename": "SyntaxError",
          "evalue": "invalid decimal literal (<ipython-input-17-8171d5a4a951>, line 2)",
          "traceback": [
            "\u001b[0;36m  File \u001b[0;32m\"<ipython-input-17-8171d5a4a951>\"\u001b[0;36m, line \u001b[0;32m2\u001b[0m\n\u001b[0;31m    1_name = \"Tarık\"\u001b[0m\n\u001b[0m     ^\u001b[0m\n\u001b[0;31mSyntaxError\u001b[0m\u001b[0;31m:\u001b[0m invalid decimal literal\n"
          ]
        }
      ]
    },
    {
      "cell_type": "code",
      "source": [
        "# matematiksel işaretçiler olmamalıdır\n",
        "+name = \"Tarık\""
      ],
      "metadata": {
        "id": "to6m0y4f58s0",
        "colab": {
          "base_uri": "https://localhost:8080/",
          "height": 106
        },
        "outputId": "977cb8bd-266c-46fb-ca86-4c75f0fe260e"
      },
      "execution_count": null,
      "outputs": [
        {
          "output_type": "error",
          "ename": "SyntaxError",
          "evalue": "cannot assign to expression here. Maybe you meant '==' instead of '='? (<ipython-input-18-07f38f2c8245>, line 2)",
          "traceback": [
            "\u001b[0;36m  File \u001b[0;32m\"<ipython-input-18-07f38f2c8245>\"\u001b[0;36m, line \u001b[0;32m2\u001b[0m\n\u001b[0;31m    +name = \"Tarık\"\u001b[0m\n\u001b[0m    ^\u001b[0m\n\u001b[0;31mSyntaxError\u001b[0m\u001b[0;31m:\u001b[0m cannot assign to expression here. Maybe you meant '==' instead of '='?\n"
          ]
        }
      ]
    },
    {
      "cell_type": "code",
      "source": [
        "# değişken isimlendirmesinde boşluk olmaz\n",
        "class number = 12"
      ],
      "metadata": {
        "id": "c1Rw7hjf6Dh-",
        "colab": {
          "base_uri": "https://localhost:8080/",
          "height": 106
        },
        "outputId": "62abac7d-9f8a-4096-87da-e3bf5f3fca35"
      },
      "execution_count": null,
      "outputs": [
        {
          "output_type": "error",
          "ename": "SyntaxError",
          "evalue": "invalid syntax (<ipython-input-19-3ea76de987cd>, line 2)",
          "traceback": [
            "\u001b[0;36m  File \u001b[0;32m\"<ipython-input-19-3ea76de987cd>\"\u001b[0;36m, line \u001b[0;32m2\u001b[0m\n\u001b[0;31m    class number = 12\u001b[0m\n\u001b[0m                 ^\u001b[0m\n\u001b[0;31mSyntaxError\u001b[0m\u001b[0;31m:\u001b[0m invalid syntax\n"
          ]
        }
      ]
    },
    {
      "cell_type": "code",
      "source": [
        "# değişken isminde türkçe karakter olması\n",
        "şehir = \"İstanbul\""
      ],
      "metadata": {
        "id": "CK-7vfpv6LPM"
      },
      "execution_count": null,
      "outputs": []
    },
    {
      "cell_type": "code",
      "source": [
        "şehir"
      ],
      "metadata": {
        "colab": {
          "base_uri": "https://localhost:8080/",
          "height": 36
        },
        "id": "VohOx76wjAXX",
        "outputId": "5c890421-72b9-4f44-a991-56bc9b99617c"
      },
      "execution_count": null,
      "outputs": [
        {
          "output_type": "execute_result",
          "data": {
            "text/plain": [
              "'İstanbul'"
            ],
            "application/vnd.google.colaboratory.intrinsic+json": {
              "type": "string"
            }
          },
          "metadata": {},
          "execution_count": 21
        }
      ]
    },
    {
      "cell_type": "markdown",
      "source": [
        "# Değişken İsimlendirme Örnekleri"
      ],
      "metadata": {
        "id": "kk2K69hx6VdD"
      }
    },
    {
      "cell_type": "code",
      "source": [
        "number = 12\n",
        "color = \"purple\"\n",
        "yarin_okul_durumu = True\n",
        "pi_sayisi = 3.14"
      ],
      "metadata": {
        "id": "qX7TVPBR6aU8"
      },
      "execution_count": null,
      "outputs": []
    },
    {
      "cell_type": "markdown",
      "source": [
        "# Basit matematiksel operatörler\n",
        "\n",
        "*  (+ )Toplama\n",
        "*  (- )Çıkarma\n",
        "*  (* )Çarpma\n",
        "*  (/ )Bölme\n",
        "*  (% )Mod(Kalan)\n",
        "*  (**) Üstel\n",
        "*  (//) Tam bölme\n",
        "\n",
        "\n",
        "\n",
        "\n",
        "\n",
        "\n",
        "\n",
        "\n",
        "\n",
        "\n",
        "\n",
        "\n",
        "\n"
      ],
      "metadata": {
        "id": "V7gF1IFw66KU"
      }
    },
    {
      "cell_type": "code",
      "source": [
        "num1 = 2\n",
        "num2 = 4\n",
        "num3 = 6.0"
      ],
      "metadata": {
        "id": "cFMud6wS7X0Q"
      },
      "execution_count": null,
      "outputs": []
    },
    {
      "cell_type": "code",
      "source": [
        "num1**2"
      ],
      "metadata": {
        "colab": {
          "base_uri": "https://localhost:8080/"
        },
        "id": "Rat08LVdjSqx",
        "outputId": "9d147947-45be-46a7-a57d-752d0310d754"
      },
      "execution_count": null,
      "outputs": [
        {
          "output_type": "execute_result",
          "data": {
            "text/plain": [
              "4"
            ]
          },
          "metadata": {},
          "execution_count": 24
        }
      ]
    },
    {
      "cell_type": "code",
      "source": [
        "num3 / num2"
      ],
      "metadata": {
        "colab": {
          "base_uri": "https://localhost:8080/"
        },
        "id": "TwzRdI-jjK66",
        "outputId": "47321686-f550-46ee-8a72-6b1494ffebee"
      },
      "execution_count": null,
      "outputs": [
        {
          "output_type": "execute_result",
          "data": {
            "text/plain": [
              "1.5"
            ]
          },
          "metadata": {},
          "execution_count": 23
        }
      ]
    },
    {
      "cell_type": "code",
      "source": [
        "num3 // num2"
      ],
      "metadata": {
        "colab": {
          "base_uri": "https://localhost:8080/"
        },
        "id": "1sktWkqGjVno",
        "outputId": "a5e5b49e-b89f-4f21-9a5c-009c8096c379"
      },
      "execution_count": null,
      "outputs": [
        {
          "output_type": "execute_result",
          "data": {
            "text/plain": [
              "1.0"
            ]
          },
          "metadata": {},
          "execution_count": 25
        }
      ]
    },
    {
      "cell_type": "code",
      "source": [
        "print(\"num1 + num2 =\",num1 + num2)\n",
        "print(\"num2 * num3 =\",num2 *num3)\n",
        "print(\"num3 // num2 =\",num3 // num2)\n",
        "print(\"num3 / num2 =\",num3 / num2)\n",
        "print(\"num3 % num2 =\",num3 % num2)\n",
        "print(\"num2**num1 =\",num2**num1)"
      ],
      "metadata": {
        "id": "-RVyeZUC7lyJ"
      },
      "execution_count": null,
      "outputs": []
    },
    {
      "cell_type": "markdown",
      "source": [
        "# Basit\tKarşılaştırma\tOperatörleri\n",
        "\n",
        "\n",
        "*   (==\t)Eşittir\n",
        "*   (!=\t)Eşit\tdeğil\n",
        "*   (>\t) Büyüktür\n",
        "*   (<\t) Küçüktür\n",
        "*   (>=\t)Büyük\teşit\n",
        "*   (<=\t)Küçük\teşit\n",
        ")\n",
        "\n",
        "\n",
        "\n",
        "\n",
        "\n",
        "\n",
        "\n",
        "\n",
        "\n"
      ],
      "metadata": {
        "id": "_zpv7N767sFK"
      }
    },
    {
      "cell_type": "code",
      "source": [
        "num1 = 8\n",
        "num2 = 5\n",
        "num3 = 3.87"
      ],
      "metadata": {
        "id": "MbCwkRPn7pEc"
      },
      "execution_count": null,
      "outputs": []
    },
    {
      "cell_type": "code",
      "source": [
        "num1 == num2"
      ],
      "metadata": {
        "colab": {
          "base_uri": "https://localhost:8080/"
        },
        "id": "kHlC5y-KjejZ",
        "outputId": "80526904-09ae-4fe0-8ea1-a05db7744f3a"
      },
      "execution_count": null,
      "outputs": [
        {
          "output_type": "execute_result",
          "data": {
            "text/plain": [
              "False"
            ]
          },
          "metadata": {},
          "execution_count": 27
        }
      ]
    },
    {
      "cell_type": "code",
      "source": [
        "print(\"num1\t==\tnum2\t=\",num1 == num2)\n",
        "print(\"num2\t!=\tnum3\t=\",num2 != num3)\n",
        "print(\"num3\t>\tnum2\t=\",num3 > num2)\n",
        "print(\"num3\t<\tnum2\t=\",num3 < num2)\n",
        "print(\"num3\t>=\tnum2\t=\",num3 >= num2)\n",
        "print(\"num2\t<=\tnum1\t=\",num2 <= num1)"
      ],
      "metadata": {
        "id": "UWOPXapk8DE4"
      },
      "execution_count": null,
      "outputs": []
    },
    {
      "cell_type": "markdown",
      "source": [
        "# Veri Türü Değiştirme"
      ],
      "metadata": {
        "id": "PxG9d5A18j8Q"
      }
    },
    {
      "cell_type": "code",
      "source": [
        "#\tint\tto\tfloat\n",
        "x = 10\n",
        "print(type(x), \"/n\")\n",
        "x = float(x)\n",
        "print(type(x))"
      ],
      "metadata": {
        "colab": {
          "base_uri": "https://localhost:8080/"
        },
        "id": "CXYrqCnd8jrf",
        "outputId": "371a1460-11bb-4aff-aa8f-bf184aa7cd03"
      },
      "execution_count": null,
      "outputs": [
        {
          "output_type": "stream",
          "name": "stdout",
          "text": [
            "<class 'int'> /n\n",
            "<class 'float'>\n"
          ]
        }
      ]
    },
    {
      "cell_type": "code",
      "source": [
        "x"
      ],
      "metadata": {
        "colab": {
          "base_uri": "https://localhost:8080/"
        },
        "id": "YaaNWp1djrut",
        "outputId": "bb2087e5-6f68-4512-895f-5aa326069b03"
      },
      "execution_count": null,
      "outputs": [
        {
          "output_type": "execute_result",
          "data": {
            "text/plain": [
              "10.0"
            ]
          },
          "metadata": {},
          "execution_count": 29
        }
      ]
    },
    {
      "cell_type": "code",
      "source": [
        "#\tfloat\tto\tint\n",
        "y = 0.99\n",
        "print(type(y), \"/n\")\n",
        "y = int (y)\n",
        "print(type(y))"
      ],
      "metadata": {
        "colab": {
          "base_uri": "https://localhost:8080/"
        },
        "id": "lva8KG138yr0",
        "outputId": "4888d48b-354e-4a0b-98fd-18819671e18e"
      },
      "execution_count": null,
      "outputs": [
        {
          "output_type": "stream",
          "name": "stdout",
          "text": [
            "<class 'float'> /n\n",
            "<class 'int'>\n"
          ]
        }
      ]
    },
    {
      "cell_type": "code",
      "source": [
        "print(y)"
      ],
      "metadata": {
        "id": "R1cWxpic9Hj8",
        "colab": {
          "base_uri": "https://localhost:8080/"
        },
        "outputId": "2c14b38e-be61-45f7-8e9e-25b845e07822"
      },
      "execution_count": null,
      "outputs": [
        {
          "output_type": "stream",
          "name": "stdout",
          "text": [
            "0\n"
          ]
        }
      ]
    },
    {
      "cell_type": "code",
      "source": [
        "#str\tto\tint\n",
        "z = \"12\"\n",
        "print(type(z), \"/n\")\n",
        "z = int(z)\n",
        "print(type(z))\n"
      ],
      "metadata": {
        "colab": {
          "base_uri": "https://localhost:8080/"
        },
        "id": "54bWEspO9NLH",
        "outputId": "7082d8fb-f442-4ce5-da35-53f6e4a39b1e"
      },
      "execution_count": null,
      "outputs": [
        {
          "output_type": "stream",
          "name": "stdout",
          "text": [
            "<class 'str'> /n\n",
            "<class 'int'>\n"
          ]
        }
      ]
    },
    {
      "cell_type": "code",
      "source": [
        "z"
      ],
      "metadata": {
        "colab": {
          "base_uri": "https://localhost:8080/"
        },
        "id": "ZHDLODPdj2jA",
        "outputId": "e250ef22-0555-4b68-f11f-04b6a96dccfd"
      },
      "execution_count": null,
      "outputs": [
        {
          "output_type": "execute_result",
          "data": {
            "text/plain": [
              "12"
            ]
          },
          "metadata": {},
          "execution_count": 33
        }
      ]
    },
    {
      "cell_type": "code",
      "source": [
        "#bool\tto\tint\n",
        "a = False\n",
        "print(type(a), \"/n\")\n",
        "print(a)\n",
        "a = int (a)\n",
        "print(type(a))"
      ],
      "metadata": {
        "colab": {
          "base_uri": "https://localhost:8080/"
        },
        "id": "up2Tsa-L9Z3z",
        "outputId": "ff877943-dd46-4274-bd8c-bedcc878938c"
      },
      "execution_count": null,
      "outputs": [
        {
          "output_type": "stream",
          "name": "stdout",
          "text": [
            "<class 'bool'> /n\n",
            "False\n",
            "<class 'int'>\n"
          ]
        }
      ]
    },
    {
      "cell_type": "code",
      "source": [
        "print(a)"
      ],
      "metadata": {
        "id": "Nb8RFmg39evT",
        "colab": {
          "base_uri": "https://localhost:8080/"
        },
        "outputId": "85091584-2b8d-4497-8f8d-60efef8735c6"
      },
      "execution_count": null,
      "outputs": [
        {
          "output_type": "stream",
          "name": "stdout",
          "text": [
            "0\n"
          ]
        }
      ]
    },
    {
      "cell_type": "markdown",
      "source": [
        "# Örnek\tbir\tkod\tuygulaması\n"
      ],
      "metadata": {
        "id": "Rkcf-7nL8IAX"
      }
    },
    {
      "cell_type": "code",
      "source": [
        "print(\"İlk\tsayıyı\tgiriniz\")\n",
        "num1 = int(input(\"birinci sayı: \"))"
      ],
      "metadata": {
        "id": "PjrRvgUx8RHl",
        "colab": {
          "base_uri": "https://localhost:8080/"
        },
        "outputId": "4e316766-806c-4040-c0fc-1f20b3e7d5e3"
      },
      "execution_count": null,
      "outputs": [
        {
          "name": "stdout",
          "output_type": "stream",
          "text": [
            "İlk\tsayıyı\tgiriniz\n",
            "birinci sayı: 1\n"
          ]
        }
      ]
    },
    {
      "cell_type": "code",
      "source": [
        "print(\"İkinci\tsayıyı\tgiriniz\")\n",
        "num2 = int(input())"
      ],
      "metadata": {
        "id": "UOFRebdm8SOC",
        "colab": {
          "base_uri": "https://localhost:8080/"
        },
        "outputId": "5b5a7f27-48a3-434b-da8b-ae9e69766a5f"
      },
      "execution_count": null,
      "outputs": [
        {
          "name": "stdout",
          "output_type": "stream",
          "text": [
            "İkinci\tsayıyı\tgiriniz\n",
            "2\n"
          ]
        }
      ]
    },
    {
      "cell_type": "code",
      "source": [
        "num3 = num1 + num2"
      ],
      "metadata": {
        "id": "px1b6C0U8Uq6"
      },
      "execution_count": null,
      "outputs": []
    },
    {
      "cell_type": "code",
      "source": [
        "print(\"İki\tsayının\ttoplamı: \", num3)"
      ],
      "metadata": {
        "colab": {
          "base_uri": "https://localhost:8080/"
        },
        "id": "RAanP_X1kFE8",
        "outputId": "3644e99e-f4b2-432c-d068-48c590f7410d"
      },
      "execution_count": null,
      "outputs": [
        {
          "output_type": "stream",
          "name": "stdout",
          "text": [
            "İki\tsayının\ttoplamı:  3\n"
          ]
        }
      ]
    },
    {
      "cell_type": "code",
      "source": [
        "int(num3)"
      ],
      "metadata": {
        "colab": {
          "base_uri": "https://localhost:8080/"
        },
        "id": "Rpe7iqILkUxO",
        "outputId": "b7945925-7e8f-441f-c1fb-f41fdb2b51f8"
      },
      "execution_count": null,
      "outputs": [
        {
          "output_type": "execute_result",
          "data": {
            "text/plain": [
              "12"
            ]
          },
          "metadata": {},
          "execution_count": 40
        }
      ]
    },
    {
      "cell_type": "code",
      "source": [
        "# Kodun düzeltilmiş hali\n",
        "\n",
        "\n",
        "\n",
        "\n"
      ],
      "metadata": {
        "id": "D1HQIhte8Z_l"
      },
      "execution_count": null,
      "outputs": []
    },
    {
      "cell_type": "markdown",
      "source": [
        "# Ödev\n",
        "Kullanıcıdan\tdairenin\tçapını\talarak\tçevre\tve\talanını\thesaplayabilen\tve\tbunu\tekrana\tyazdırabilen\tbir\tprogram\tyazınız.\n"
      ],
      "metadata": {
        "id": "ScCtBQ429ldm"
      }
    },
    {
      "cell_type": "code",
      "source": [
        "cap = int(input(\"Dairenin çapını giriniz = \"))\n",
        "pi = 3.14\n",
        "alan = 3.14*((cap/2)**2)\n",
        "cevre = 2*pi*(cap/2)\n",
        "print(\"Dairenin alanı = \", alan)\n",
        "print(\"Dairenin çevresi = \", cevre)"
      ],
      "metadata": {
        "colab": {
          "base_uri": "https://localhost:8080/"
        },
        "collapsed": true,
        "id": "YzC-Z-5O9lKA",
        "outputId": "31e65379-ebf7-400e-a5eb-4cf1414564b3"
      },
      "execution_count": null,
      "outputs": [
        {
          "output_type": "stream",
          "name": "stdout",
          "text": [
            "Dairenin çapını giriniz = 3\n",
            "Dairenin alanı =  7.065\n",
            "Dairenin çevresi =  9.42\n"
          ]
        }
      ]
    },
    {
      "cell_type": "code",
      "source": [
        "my_string = \"Merhaba, dünya!\""
      ],
      "metadata": {
        "id": "ARJpOQD8mB8i"
      },
      "execution_count": null,
      "outputs": []
    },
    {
      "cell_type": "code",
      "source": [
        "len(my_string)"
      ],
      "metadata": {
        "colab": {
          "base_uri": "https://localhost:8080/"
        },
        "id": "BaxMYrMGmEmS",
        "outputId": "3708eb05-3729-49a9-db90-1dad21ea69d7"
      },
      "execution_count": null,
      "outputs": [
        {
          "output_type": "execute_result",
          "data": {
            "text/plain": [
              "15"
            ]
          },
          "metadata": {},
          "execution_count": 47
        }
      ]
    },
    {
      "cell_type": "code",
      "source": [
        "str1 = \"Tanıştığıma memnun oldum.\""
      ],
      "metadata": {
        "id": "142vCRgSmGM0"
      },
      "execution_count": null,
      "outputs": []
    },
    {
      "cell_type": "code",
      "source": [
        "lenght = len(str1)\n"
      ],
      "metadata": {
        "id": "sRbHy1vvmLWc"
      },
      "execution_count": null,
      "outputs": []
    },
    {
      "cell_type": "code",
      "source": [
        "print(\"Index 1 = \",str1[1])"
      ],
      "metadata": {
        "colab": {
          "base_uri": "https://localhost:8080/"
        },
        "id": "fxxe8-h6mM49",
        "outputId": "09412b9b-080b-4547-affd-da8929ad68d0"
      },
      "execution_count": null,
      "outputs": [
        {
          "output_type": "stream",
          "name": "stdout",
          "text": [
            "Index 1 =  a\n"
          ]
        }
      ]
    },
    {
      "cell_type": "code",
      "source": [
        "print(\"Index 0 = \",str1[0])"
      ],
      "metadata": {
        "colab": {
          "base_uri": "https://localhost:8080/"
        },
        "id": "LSGgoKXSmPfP",
        "outputId": "b05b87a9-d7f2-4320-f1dd-2f50ea58d5bc"
      },
      "execution_count": null,
      "outputs": [
        {
          "output_type": "stream",
          "name": "stdout",
          "text": [
            "Index 0 =  T\n"
          ]
        }
      ]
    },
    {
      "cell_type": "code",
      "source": [
        "print(\"Index -1 = \",str1[-1])"
      ],
      "metadata": {
        "colab": {
          "base_uri": "https://localhost:8080/"
        },
        "id": "PYWEEL8gmXLq",
        "outputId": "64247af5-5ddd-4f1d-fa6e-a26e82a50bb3"
      },
      "execution_count": null,
      "outputs": [
        {
          "output_type": "stream",
          "name": "stdout",
          "text": [
            "Index -1 =  .\n"
          ]
        }
      ]
    },
    {
      "cell_type": "code",
      "source": [
        "print(\"Index -2 = \",str1[-2])"
      ],
      "metadata": {
        "colab": {
          "base_uri": "https://localhost:8080/"
        },
        "id": "0a8-JzjHmf9F",
        "outputId": "6a937b26-b6ea-48b5-9505-4607a3255b8e"
      },
      "execution_count": null,
      "outputs": [
        {
          "output_type": "stream",
          "name": "stdout",
          "text": [
            "Index -2 =  m\n"
          ]
        }
      ]
    },
    {
      "cell_type": "code",
      "source": [
        "print(\"Index 4 ten sona kadar = \",str1[4:])"
      ],
      "metadata": {
        "colab": {
          "base_uri": "https://localhost:8080/"
        },
        "id": "X2Imf0u1nFJK",
        "outputId": "783d5734-2c82-4481-e785-519face65c5b"
      },
      "execution_count": null,
      "outputs": [
        {
          "output_type": "stream",
          "name": "stdout",
          "text": [
            "Index 4 ten sona kadar =  ştığıma memnun oldum.\n"
          ]
        }
      ]
    },
    {
      "cell_type": "code",
      "source": [
        "print(\"Index 2’den 12 ye kadar 3’er = \",str1[2:12:3])"
      ],
      "metadata": {
        "colab": {
          "base_uri": "https://localhost:8080/"
        },
        "id": "nid_9IzInbag",
        "outputId": "f813691a-1cf6-4168-f401-b848cdbfabfd"
      },
      "execution_count": null,
      "outputs": [
        {
          "output_type": "stream",
          "name": "stdout",
          "text": [
            "Index 2’den 12 ye kadar 3’er =  ntı \n"
          ]
        }
      ]
    },
    {
      "cell_type": "code",
      "source": [
        "isim = \"İrem\"\n",
        "soyad = \"Sayın\"\n",
        "cümle = \"Benim adım\" + isim + soyad"
      ],
      "metadata": {
        "id": "Y66i2IWzmj7z"
      },
      "execution_count": null,
      "outputs": []
    },
    {
      "cell_type": "code",
      "source": [
        "cümle"
      ],
      "metadata": {
        "colab": {
          "base_uri": "https://localhost:8080/",
          "height": 36
        },
        "id": "XxIKsIZJmq8P",
        "outputId": "0e68ae2d-a357-49ed-a870-4a22ffe89720"
      },
      "execution_count": null,
      "outputs": [
        {
          "output_type": "execute_result",
          "data": {
            "text/plain": [
              "'Benim adımİremSayın'"
            ],
            "application/vnd.google.colaboratory.intrinsic+json": {
              "type": "string"
            }
          },
          "metadata": {},
          "execution_count": 56
        }
      ]
    },
    {
      "cell_type": "code",
      "source": [
        "print(\"Benim adım {0} {1}\".format(isim, soyad))"
      ],
      "metadata": {
        "colab": {
          "base_uri": "https://localhost:8080/"
        },
        "id": "9drOKVh2mwPv",
        "outputId": "0c3330fa-6014-4448-c939-3595dc08b27b"
      },
      "execution_count": null,
      "outputs": [
        {
          "output_type": "stream",
          "name": "stdout",
          "text": [
            "Benim adım İrem Sayın\n"
          ]
        }
      ]
    },
    {
      "cell_type": "code",
      "source": [
        "my_list = [1, 2, 3, 4, 5]"
      ],
      "metadata": {
        "id": "HIqQXQKzm0TY"
      },
      "execution_count": null,
      "outputs": []
    },
    {
      "cell_type": "code",
      "source": [
        "type(my_list)"
      ],
      "metadata": {
        "colab": {
          "base_uri": "https://localhost:8080/"
        },
        "id": "Z63Zr8DxoZmt",
        "outputId": "8c49bcae-59f6-479b-e74a-495ab893dea4"
      },
      "execution_count": null,
      "outputs": [
        {
          "output_type": "execute_result",
          "data": {
            "text/plain": [
              "list"
            ]
          },
          "metadata": {},
          "execution_count": 62
        }
      ]
    },
    {
      "cell_type": "code",
      "source": [
        "my_list"
      ],
      "metadata": {
        "colab": {
          "base_uri": "https://localhost:8080/"
        },
        "id": "0wEwDHVloLAz",
        "outputId": "e021d6f3-2e34-4a5f-b6a2-445b64cd41bc"
      },
      "execution_count": null,
      "outputs": [
        {
          "output_type": "execute_result",
          "data": {
            "text/plain": [
              "[1, 2, 3, 4, 5]"
            ]
          },
          "metadata": {},
          "execution_count": 63
        }
      ]
    },
    {
      "cell_type": "code",
      "source": [
        "my_list[-1]"
      ],
      "metadata": {
        "colab": {
          "base_uri": "https://localhost:8080/"
        },
        "id": "xNVUXZvsoK54",
        "outputId": "a564c048-1f75-491b-c130-3a6c69cf92c6"
      },
      "execution_count": null,
      "outputs": [
        {
          "output_type": "execute_result",
          "data": {
            "text/plain": [
              "5"
            ]
          },
          "metadata": {},
          "execution_count": 66
        }
      ]
    },
    {
      "cell_type": "code",
      "source": [
        "my_list[1:4]"
      ],
      "metadata": {
        "colab": {
          "base_uri": "https://localhost:8080/"
        },
        "id": "5a9CZAagoK2Q",
        "outputId": "1606aff7-9df8-4508-fc29-8a7165659228"
      },
      "execution_count": null,
      "outputs": [
        {
          "output_type": "execute_result",
          "data": {
            "text/plain": [
              "[2, 3, 4]"
            ]
          },
          "metadata": {},
          "execution_count": 68
        }
      ]
    },
    {
      "cell_type": "code",
      "source": [
        "len(my_list)"
      ],
      "metadata": {
        "colab": {
          "base_uri": "https://localhost:8080/"
        },
        "id": "5vrRM2EwoKwG",
        "outputId": "691e644d-d734-4b1d-f853-0daa913a8883"
      },
      "execution_count": null,
      "outputs": [
        {
          "output_type": "execute_result",
          "data": {
            "text/plain": [
              "5"
            ]
          },
          "metadata": {},
          "execution_count": 69
        }
      ]
    },
    {
      "cell_type": "code",
      "source": [
        "my_list.append(\"a\")"
      ],
      "metadata": {
        "id": "FsQR9WiCpEXl"
      },
      "execution_count": null,
      "outputs": []
    },
    {
      "cell_type": "code",
      "source": [
        "my_list"
      ],
      "metadata": {
        "colab": {
          "base_uri": "https://localhost:8080/"
        },
        "id": "BsGFWITxpL2W",
        "outputId": "d1b75d31-6590-4f38-ade1-5234d8469735"
      },
      "execution_count": null,
      "outputs": [
        {
          "output_type": "execute_result",
          "data": {
            "text/plain": [
              "[1, 2, 3, 4, 5, 'a']"
            ]
          },
          "metadata": {},
          "execution_count": 71
        }
      ]
    },
    {
      "cell_type": "code",
      "source": [
        "another_list = [4, 5, 6]"
      ],
      "metadata": {
        "id": "Fu0VQNXUpZpA"
      },
      "execution_count": null,
      "outputs": []
    },
    {
      "cell_type": "code",
      "source": [
        "my_list.extend(another_list)"
      ],
      "metadata": {
        "id": "WzhRRR_CpNXK"
      },
      "execution_count": null,
      "outputs": []
    },
    {
      "cell_type": "code",
      "source": [
        "my_list.insert(0, \"b\")"
      ],
      "metadata": {
        "id": "pH17lqm_pk4f"
      },
      "execution_count": null,
      "outputs": []
    },
    {
      "cell_type": "code",
      "source": [
        "my_list"
      ],
      "metadata": {
        "colab": {
          "base_uri": "https://localhost:8080/"
        },
        "id": "SC0IOIt-pg2G",
        "outputId": "c9f58174-0bce-4495-dcc9-a800307bd5bd"
      },
      "execution_count": null,
      "outputs": [
        {
          "output_type": "execute_result",
          "data": {
            "text/plain": [
              "['b', 1, 2, 3, 4, 5, 'a', 4, 5, 6]"
            ]
          },
          "metadata": {},
          "execution_count": 77
        }
      ]
    },
    {
      "cell_type": "code",
      "source": [
        "my_list = [1, 2, 3, 4]\n",
        "popped_element = my_list.pop()"
      ],
      "metadata": {
        "id": "SwEUcJNUpweu"
      },
      "execution_count": null,
      "outputs": []
    },
    {
      "cell_type": "code",
      "source": [
        "my_list"
      ],
      "metadata": {
        "colab": {
          "base_uri": "https://localhost:8080/"
        },
        "id": "KvIHPcmsp5Zr",
        "outputId": "75576b82-6ac5-4ea1-e577-af83d1ddfc16"
      },
      "execution_count": null,
      "outputs": [
        {
          "output_type": "execute_result",
          "data": {
            "text/plain": [
              "[1, 3, 4]"
            ]
          },
          "metadata": {},
          "execution_count": 79
        }
      ]
    },
    {
      "cell_type": "code",
      "source": [
        "my_list = [1, 2, 3, 4, 3]\n",
        "index = my_list.index(3)"
      ],
      "metadata": {
        "id": "QUHDYpchp6P1"
      },
      "execution_count": null,
      "outputs": []
    },
    {
      "cell_type": "code",
      "source": [
        "my_list[3]"
      ],
      "metadata": {
        "colab": {
          "base_uri": "https://localhost:8080/"
        },
        "id": "IwjfEDQbrTL4",
        "outputId": "673128ca-37ab-4264-b414-5d312c26c188"
      },
      "execution_count": null,
      "outputs": [
        {
          "output_type": "execute_result",
          "data": {
            "text/plain": [
              "4"
            ]
          },
          "metadata": {},
          "execution_count": 82
        }
      ]
    },
    {
      "cell_type": "code",
      "source": [
        "index"
      ],
      "metadata": {
        "colab": {
          "base_uri": "https://localhost:8080/"
        },
        "id": "cfZP7FGGrN62",
        "outputId": "5f49bf03-baf6-423b-f6ea-dc398a2d66ec"
      },
      "execution_count": null,
      "outputs": [
        {
          "output_type": "execute_result",
          "data": {
            "text/plain": [
              "2"
            ]
          },
          "metadata": {},
          "execution_count": 81
        }
      ]
    },
    {
      "cell_type": "code",
      "source": [
        "my_list = [\"a\", \"b\", \"c\", \"d\"]"
      ],
      "metadata": {
        "id": "IhZxUQaWrPLY"
      },
      "execution_count": null,
      "outputs": []
    },
    {
      "cell_type": "code",
      "source": [
        "index = my_list.index(\"b\")"
      ],
      "metadata": {
        "id": "zDZPq3cirb4X"
      },
      "execution_count": null,
      "outputs": []
    },
    {
      "cell_type": "code",
      "source": [
        "index"
      ],
      "metadata": {
        "colab": {
          "base_uri": "https://localhost:8080/"
        },
        "id": "78UIJj9mrfeU",
        "outputId": "0dd83780-7715-4ce8-c677-c6dfc71a4f3e"
      },
      "execution_count": null,
      "outputs": [
        {
          "output_type": "execute_result",
          "data": {
            "text/plain": [
              "1"
            ]
          },
          "metadata": {},
          "execution_count": 86
        }
      ]
    },
    {
      "cell_type": "code",
      "source": [
        "my_list = [1, 2, 3, 4, 3]\n",
        "count = my_list.count(3)"
      ],
      "metadata": {
        "id": "zEZjw8Rtrjqu"
      },
      "execution_count": null,
      "outputs": []
    },
    {
      "cell_type": "code",
      "source": [
        "count"
      ],
      "metadata": {
        "colab": {
          "base_uri": "https://localhost:8080/"
        },
        "id": "1fhwjQjWrp_Q",
        "outputId": "e6fac516-80da-4d75-f9ca-3177ef6a3e31"
      },
      "execution_count": null,
      "outputs": [
        {
          "output_type": "execute_result",
          "data": {
            "text/plain": [
              "2"
            ]
          },
          "metadata": {},
          "execution_count": 88
        }
      ]
    },
    {
      "cell_type": "code",
      "source": [
        "my_list = [4, 2, 1, 3]\n",
        "my_list.sort()"
      ],
      "metadata": {
        "id": "1XX3wmO6rrIk"
      },
      "execution_count": null,
      "outputs": []
    },
    {
      "cell_type": "code",
      "source": [
        "my_list"
      ],
      "metadata": {
        "colab": {
          "base_uri": "https://localhost:8080/"
        },
        "id": "dAhtgN9Hrx1w",
        "outputId": "5a6b4961-3c67-4c5b-ca2e-44471814d6a9"
      },
      "execution_count": null,
      "outputs": [
        {
          "output_type": "execute_result",
          "data": {
            "text/plain": [
              "[1, 2, 3, 4]"
            ]
          },
          "metadata": {},
          "execution_count": 90
        }
      ]
    },
    {
      "cell_type": "code",
      "source": [],
      "metadata": {
        "id": "g83DxnKRrzRa"
      },
      "execution_count": null,
      "outputs": []
    }
  ]
}